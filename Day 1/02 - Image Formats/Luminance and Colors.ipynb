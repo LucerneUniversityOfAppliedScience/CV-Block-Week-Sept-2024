{
 "cells": [
  {
   "attachments": {},
   "cell_type": "markdown",
   "metadata": {},
   "source": [
    "# Luminance and Colors\n",
    "\n",
    "Author: Dr. Umberto Michelucci (umberto.michelucci@hslu.ch)"
   ]
  },
  {
   "attachments": {},
   "cell_type": "markdown",
   "metadata": {},
   "source": [
    "The luminance is not defined in a straightforwawrd and is not define uniquely. A possible formula that can be used, and that is demonstrated in this notebooks is the following.\n",
    "\n",
    "$$\n",
    "    \\textrm{Luminance} = \\frac{299\\cdot \\textrm{Red}+587\\cdot \\textrm{Green}+114\\cdot \\textrm{Blue}}{1000}\n",
    "$$\n",
    "\n",
    "That is defined as a function below."
   ]
  },
  {
   "cell_type": "code",
   "execution_count": 46,
   "metadata": {},
   "outputs": [],
   "source": [
    "import numpy as np\n",
    "import matplotlib.pyplot as plt\n",
    "import matplotlib\n",
    "from more_itertools import sort_together"
   ]
  },
  {
   "cell_type": "code",
   "execution_count": 66,
   "metadata": {},
   "outputs": [],
   "source": [
    "step = 20\n",
    "colors = []\n",
    "for red in np.arange (0,255,step): # we plot 50 colors between white and black\n",
    "    for green in np.arange (0,255,step): # we plot 50 colors between white and black\n",
    "        for blue in np.arange (0,255,step): # we plot 50 colors between white and black\n",
    "            colors.append((red/255.0, green/255.0, blue/255.0))"
   ]
  },
  {
   "cell_type": "code",
   "execution_count": 67,
   "metadata": {},
   "outputs": [],
   "source": [
    "def luminance(RGB):\n",
    "    return (RGB[0]*299.0+RGB[1]*587+RGB[2]*114)/1000.0\n",
    "\n",
    "luminance_list = [luminance(x) for x in colors]"
   ]
  },
  {
   "cell_type": "code",
   "execution_count": 68,
   "metadata": {},
   "outputs": [],
   "source": [
    "luminance_np = np.array(luminance_list)\n",
    "colors_np = np.array(colors)\n",
    "\n",
    "sort = np.argsort(luminance_np)\n",
    "colors_sorted = colors_np[sort]\n",
    "luminance_sorted = luminance_np[sort]\n"
   ]
  },
  {
   "attachments": {},
   "cell_type": "markdown",
   "metadata": {},
   "source": [
    "## Plot of the colors sorted by their luminance"
   ]
  },
  {
   "cell_type": "code",
   "execution_count": 69,
   "metadata": {},
   "outputs": [
    {
     "data": {
      "image/png": "[encoded data removed]",
      "text/plain": [
       "<Figure size 1000x100 with 1 Axes>"
      ]
     },
     "metadata": {},
     "output_type": "display_data"
    }
   ],
   "source": [
    "fig = plt.figure(figsize = (10,1))\n",
    "ax = fig.add_subplot(111)\n",
    "ax.get_xaxis().set_visible(False)\n",
    "ax.get_yaxis().set_visible(False)\n",
    "for i in range(len(colors)):\n",
    "    rect = matplotlib.patches.Rectangle((i,0), 1, 1, color=colors_sorted[i])\n",
    "    ax.add_patch(rect)\n",
    "ax.set_xlim(0, len(colors))\n",
    "ax.set_ylim(0,1)\n",
    "plt.show()"
   ]
  },
  {
   "attachments": {},
   "cell_type": "markdown",
   "metadata": {},
   "source": [
    "## Transformation of the image to B&W by using luminance as the only channel\n",
    "\n",
    "Now let's use luminance as the only channel and plot it as a gray level image."
   ]
  },
  {
   "cell_type": "code",
   "execution_count": 87,
   "metadata": {},
   "outputs": [
    {
     "name": "stdout",
     "output_type": "stream",
     "text": [
      "(10, 2197, 1)\n"
     ]
    }
   ],
   "source": [
    "# We will create a fake image as the one above by defining an array and putting values for the pixels as the luminance.\n",
    "image = np.zeros((10,len(colors), 1)) # 10 pixel height\n",
    "print(image.shape)\n",
    "for pixel in range(len(colors)):\n",
    "    image[ 0:10, pixel, 0] = luminance_sorted[pixel]"
   ]
  },
  {
   "cell_type": "code",
   "execution_count": 92,
   "metadata": {},
   "outputs": [
    {
     "data": {
      "text/plain": [
       "<matplotlib.image.AxesImage at 0x146e8bc10>"
      ]
     },
     "execution_count": 92,
     "metadata": {},
     "output_type": "execute_result"
    },
    {
     "data": {
      "image/png": "[encoded data removed]",
      "text/plain": [
       "<Figure size 1000x100 with 1 Axes>"
      ]
     },
     "metadata": {},
     "output_type": "display_data"
    }
   ],
   "source": [
    "fig = plt.figure(figsize = (10,1))\n",
    "ax = fig.add_subplot(111)\n",
    "ax.get_xaxis().set_visible(False)\n",
    "ax.get_yaxis().set_visible(False)\n",
    "plt.imshow(image, aspect = 'auto', cmap = 'gray')\n"
   ]
  },
  {
   "cell_type": "code",
   "execution_count": null,
   "metadata": {},
   "outputs": [],
   "source": []
  }
 ],
 "metadata": {
  "kernelspec": {
   "display_name": "tf2",
   "language": "python",
   "name": "python3"
  },
  "language_info": {
   "codemirror_mode": {
    "name": "ipython",
    "version": 3
   },
   "file_extension": ".py",
   "mimetype": "text/x-python",
   "name": "python",
   "nbconvert_exporter": "python",
   "pygments_lexer": "ipython3",
   "version": "3.9.15"
  },
  "orig_nbformat": 4
 },
 "nbformat": 4,
 "nbformat_minor": 2
}
