{
 "cells": [
  {
   "attachments": {},
   "cell_type": "markdown",
   "id": "2192e56e-240f-4e19-9f04-4efc8b689d73",
   "metadata": {},
   "source": [
    "# EXERCISES\n",
    "\n",
    "Examples adapted from the official documentation of tensorflow and scikit-learn\n",
    "\n",
    "Author: Umberto Michelucci"
   ]
  },
  {
   "cell_type": "code",
   "execution_count": 16,
   "id": "e3968067-0fd9-483a-8fd3-a4d075380d1a",
   "metadata": {},
   "outputs": [],
   "source": [
    "# matplotlib is a library to plot all sort of data\n",
    "import matplotlib.pyplot as plt\n",
    "\n",
    "# Import datasets, classifiers and performance metrics\n",
    "from sklearn import datasets, svm, metrics\n",
    "from sklearn.model_selection import train_test_split"
   ]
  },
  {
   "attachments": {},
   "cell_type": "markdown",
   "id": "9a1bdd51-0ce6-4e7b-9e52-21c237bb7281",
   "metadata": {},
   "source": [
    "In ```scikit-learn``` there are several datasets available for trying out features. They are in the package ```datasets```. In this example we load the digits dataset. That is a low-resolution version of the MNIST dataset."
   ]
  },
  {
   "cell_type": "code",
   "execution_count": 17,
   "id": "ee41ca9c-bd76-4f28-a3cb-cfa3c2b2c815",
   "metadata": {},
   "outputs": [
    {
     "data": {
      "image/png": "[encoded data removed]",
      "text/plain": [
       "<Figure size 1000x300 with 4 Axes>"
      ]
     },
     "metadata": {},
     "output_type": "display_data"
    }
   ],
   "source": [
    "digits = datasets.load_digits()\n",
    "\n",
    "_, axes = plt.subplots(nrows=1, ncols=4, figsize=(10, 3))\n",
    "for ax, image, label in zip(axes, digits.images, digits.target):\n",
    "    ax.set_axis_off()\n",
    "    ax.imshow(image, cmap=plt.cm.gray_r, interpolation=\"nearest\")\n",
    "    ax.set_title(\"Training: %i\" % label)"
   ]
  },
  {
   "cell_type": "code",
   "execution_count": 18,
   "id": "7b1af715-f205-4920-a17a-4dd44338ac14",
   "metadata": {},
   "outputs": [
    {
     "data": {
      "text/plain": [
       "(1797, 8, 8)"
      ]
     },
     "execution_count": 18,
     "metadata": {},
     "output_type": "execute_result"
    }
   ],
   "source": [
    "digits.images.shape"
   ]
  },
  {
   "cell_type": "code",
   "execution_count": 19,
   "id": "9ded1721-c1bb-421f-9d3e-f321fe632bb3",
   "metadata": {},
   "outputs": [
    {
     "data": {
      "text/plain": [
       "numpy.ndarray"
      ]
     },
     "execution_count": 19,
     "metadata": {},
     "output_type": "execute_result"
    }
   ],
   "source": [
    "# We check the datatype of digits.images\n",
    "type(digits.images)"
   ]
  },
  {
   "attachments": {},
   "cell_type": "markdown",
   "id": "d6d11af2",
   "metadata": {},
   "source": [
    "# EXERCISE: CHECK HOW UNBALANCED (IF IT IS) THE DATASET IS\n",
    "\n",
    "Check how many times each digit appear"
   ]
  },
  {
   "cell_type": "code",
   "execution_count": 20,
   "id": "b022e5c5",
   "metadata": {},
   "outputs": [
    {
     "data": {
      "text/plain": [
       "Counter({0: 178,\n",
       "         1: 182,\n",
       "         2: 177,\n",
       "         3: 183,\n",
       "         4: 181,\n",
       "         5: 182,\n",
       "         6: 181,\n",
       "         7: 179,\n",
       "         8: 174,\n",
       "         9: 180})"
      ]
     },
     "execution_count": 20,
     "metadata": {},
     "output_type": "execute_result"
    }
   ],
   "source": [
    "# ADD YOUR CODE HERE\n",
    "from collections import Counter\n",
    "\n",
    "# empty Counter\n",
    "counter = Counter(digits.target)\n",
    "counter"
   ]
  },
  {
   "cell_type": "code",
   "execution_count": 21,
   "id": "12e19c61",
   "metadata": {},
   "outputs": [
    {
     "data": {
      "text/plain": [
       "array([0, 1, 2, 3, 4, 5, 6, 7, 8, 9, 0, 1, 2, 3, 4, 5, 6, 7, 8, 9, 0, 1,\n",
       "       2, 3, 4, 5, 6, 7, 8, 9, 0, 9, 5, 5, 6, 5, 0, 9, 8, 9, 8, 4, 1, 7,\n",
       "       7, 3, 5, 1, 0, 0, 2, 2, 7, 8, 2, 0, 1, 2, 6, 3, 3, 7, 3, 3, 4, 6,\n",
       "       6, 6, 4, 9, 1, 5, 0, 9, 5, 2, 8, 2, 0, 0, 1, 7, 6, 3, 2, 1, 7, 4,\n",
       "       6, 3, 1, 3, 9, 1, 7, 6, 8, 4, 3, 1])"
      ]
     },
     "execution_count": 21,
     "metadata": {},
     "output_type": "execute_result"
    }
   ],
   "source": [
    "# Labels are shuffled. Let's check.\n",
    "digits.target[0:100]"
   ]
  },
  {
   "attachments": {},
   "cell_type": "markdown",
   "id": "b540526a-13c8-4cb6-baae-28df442ec5ba",
   "metadata": {},
   "source": [
    "The ```shape``` properties of a ```numpy``` array gives you the dimensions and the number of elements along each axis."
   ]
  },
  {
   "attachments": {},
   "cell_type": "markdown",
   "id": "f450b8c2-f613-4b60-a3d2-9ddbe2b49cb0",
   "metadata": {},
   "source": [
    "# Data Preparation"
   ]
  },
  {
   "attachments": {},
   "cell_type": "markdown",
   "id": "ab1dd429-98ad-47cd-a5a2-39056fa231f5",
   "metadata": {},
   "source": [
    "In this example, we will use a support vector classifier. This kind of model does not understand 2D data structures (as images are), and thus we need to flatten the images. The original dataset are ```8x8``` in size. "
   ]
  },
  {
   "cell_type": "code",
   "execution_count": 22,
   "id": "7681a8a1-d891-4779-acac-aa9209d281ba",
   "metadata": {},
   "outputs": [],
   "source": [
    "# flatten the images\n",
    "n_samples = len(digits.images)\n",
    "data = digits.images.reshape((n_samples, -1))"
   ]
  },
  {
   "cell_type": "code",
   "execution_count": 23,
   "id": "78b833bd-a179-4919-a54d-49eb3472a226",
   "metadata": {},
   "outputs": [
    {
     "data": {
      "text/plain": [
       "(1797, 64)"
      ]
     },
     "execution_count": 23,
     "metadata": {},
     "output_type": "execute_result"
    }
   ],
   "source": [
    "data.shape"
   ]
  },
  {
   "attachments": {},
   "cell_type": "markdown",
   "id": "203e9ac9-8603-4271-aee6-61aef576793f",
   "metadata": {},
   "source": [
    "after flattening the 2D image has been converted to a one-dimensional vector with 64 elements (8x8)."
   ]
  },
  {
   "attachments": {},
   "cell_type": "markdown",
   "id": "13fd4319-83f4-4481-8424-38f113f8b9ab",
   "metadata": {},
   "source": [
    "# Train the model"
   ]
  },
  {
   "attachments": {},
   "cell_type": "markdown",
   "id": "340736bf-f4ae-4ffd-aa9e-eea9e2d41f02",
   "metadata": {},
   "source": [
    "In the next cell you can see a good example of the **hold-out** approach to model validation. You will learn more about it in one of the next lectures."
   ]
  },
  {
   "cell_type": "code",
   "execution_count": 24,
   "id": "4a480eab-0b68-48c6-aaef-cb6a61677242",
   "metadata": {},
   "outputs": [
    {
     "data": {
      "text/html": [
       "<style>#sk-container-id-1 {color: black;background-color: white;}#sk-container-id-1 pre{padding: 0;}#sk-container-id-1 div.sk-toggleable {background-color: white;}#sk-container-id-1 label.sk-toggleable__label {cursor: pointer;display: block;width: 100%;margin-bottom: 0;padding: 0.3em;box-sizing: border-box;text-align: center;}#sk-container-id-1 label.sk-toggleable__label-arrow:before {content: \"▸\";float: left;margin-right: 0.25em;color: #696969;}#sk-container-id-1 label.sk-toggleable__label-arrow:hover:before {color: black;}#sk-container-id-1 div.sk-estimator:hover label.sk-toggleable__label-arrow:before {color: black;}#sk-container-id-1 div.sk-toggleable__content {max-height: 0;max-width: 0;overflow: hidden;text-align: left;background-color: #f0f8ff;}#sk-container-id-1 div.sk-toggleable__content pre {margin: 0.2em;color: black;border-radius: 0.25em;background-color: #f0f8ff;}#sk-container-id-1 input.sk-toggleable__control:checked~div.sk-toggleable__content {max-height: 200px;max-width: 100%;overflow: auto;}#sk-container-id-1 input.sk-toggleable__control:checked~label.sk-toggleable__label-arrow:before {content: \"▾\";}#sk-container-id-1 div.sk-estimator input.sk-toggleable__control:checked~label.sk-toggleable__label {background-color: #d4ebff;}#sk-container-id-1 div.sk-label input.sk-toggleable__control:checked~label.sk-toggleable__label {background-color: #d4ebff;}#sk-container-id-1 input.sk-hidden--visually {border: 0;clip: rect(1px 1px 1px 1px);clip: rect(1px, 1px, 1px, 1px);height: 1px;margin: -1px;overflow: hidden;padding: 0;position: absolute;width: 1px;}#sk-container-id-1 div.sk-estimator {font-family: monospace;background-color: #f0f8ff;border: 1px dotted black;border-radius: 0.25em;box-sizing: border-box;margin-bottom: 0.5em;}#sk-container-id-1 div.sk-estimator:hover {background-color: #d4ebff;}#sk-container-id-1 div.sk-parallel-item::after {content: \"\";width: 100%;border-bottom: 1px solid gray;flex-grow: 1;}#sk-container-id-1 div.sk-label:hover label.sk-toggleable__label {background-color: #d4ebff;}#sk-container-id-1 div.sk-serial::before {content: \"\";position: absolute;border-left: 1px solid gray;box-sizing: border-box;top: 0;bottom: 0;left: 50%;z-index: 0;}#sk-container-id-1 div.sk-serial {display: flex;flex-direction: column;align-items: center;background-color: white;padding-right: 0.2em;padding-left: 0.2em;position: relative;}#sk-container-id-1 div.sk-item {position: relative;z-index: 1;}#sk-container-id-1 div.sk-parallel {display: flex;align-items: stretch;justify-content: center;background-color: white;position: relative;}#sk-container-id-1 div.sk-item::before, #sk-container-id-1 div.sk-parallel-item::before {content: \"\";position: absolute;border-left: 1px solid gray;box-sizing: border-box;top: 0;bottom: 0;left: 50%;z-index: -1;}#sk-container-id-1 div.sk-parallel-item {display: flex;flex-direction: column;z-index: 1;position: relative;background-color: white;}#sk-container-id-1 div.sk-parallel-item:first-child::after {align-self: flex-end;width: 50%;}#sk-container-id-1 div.sk-parallel-item:last-child::after {align-self: flex-start;width: 50%;}#sk-container-id-1 div.sk-parallel-item:only-child::after {width: 0;}#sk-container-id-1 div.sk-dashed-wrapped {border: 1px dashed gray;margin: 0 0.4em 0.5em 0.4em;box-sizing: border-box;padding-bottom: 0.4em;background-color: white;}#sk-container-id-1 div.sk-label label {font-family: monospace;font-weight: bold;display: inline-block;line-height: 1.2em;}#sk-container-id-1 div.sk-label-container {text-align: center;}#sk-container-id-1 div.sk-container {/* jupyter's `normalize.less` sets `[hidden] { display: none; }` but bootstrap.min.css set `[hidden] { display: none !important; }` so we also need the `!important` here to be able to override the default hidden behavior on the sphinx rendered scikit-learn.org. See: https://github.com/scikit-learn/scikit-learn/issues/21755 */display: inline-block !important;position: relative;}#sk-container-id-1 div.sk-text-repr-fallback {display: none;}</style><div id=\"sk-container-id-1\" class=\"sk-top-container\"><div class=\"sk-text-repr-fallback\"><pre>SVC(gamma=0.001)</pre><b>In a Jupyter environment, please rerun this cell to show the HTML representation or trust the notebook. <br />On GitHub, the HTML representation is unable to render, please try loading this page with nbviewer.org.</b></div><div class=\"sk-container\" hidden><div class=\"sk-item\"><div class=\"sk-estimator sk-toggleable\"><input class=\"sk-toggleable__control sk-hidden--visually\" id=\"sk-estimator-id-1\" type=\"checkbox\" checked><label for=\"sk-estimator-id-1\" class=\"sk-toggleable__label sk-toggleable__label-arrow\">SVC</label><div class=\"sk-toggleable__content\"><pre>SVC(gamma=0.001)</pre></div></div></div></div></div>"
      ],
      "text/plain": [
       "SVC(gamma=0.001)"
      ]
     },
     "execution_count": 24,
     "metadata": {},
     "output_type": "execute_result"
    }
   ],
   "source": [
    "# Create a classifier: a support vector classifier\n",
    "clf = svm.SVC(gamma=0.001)\n",
    "\n",
    "# Split data into 50% train and 50% test subsets\n",
    "# This is an example of the hold-out approach for\n",
    "# model validation.\n",
    "X_train, X_test, y_train, y_test = train_test_split(\n",
    "    data, digits.target, test_size=0.5, shuffle=False\n",
    ")\n",
    "\n",
    "# Learn the digits on the train subset\n",
    "clf.fit(X_train, y_train)\n"
   ]
  },
  {
   "cell_type": "code",
   "execution_count": 33,
   "id": "1efe9928",
   "metadata": {},
   "outputs": [
    {
     "data": {
      "text/plain": [
       "Counter({0: 90, 1: 91, 2: 91, 3: 92, 4: 89, 5: 91, 6: 90, 7: 90, 8: 86, 9: 88})"
      ]
     },
     "execution_count": 33,
     "metadata": {},
     "output_type": "execute_result"
    }
   ],
   "source": [
    "counter = Counter(y_train)\n",
    "counter"
   ]
  },
  {
   "attachments": {},
   "cell_type": "markdown",
   "id": "0ea7d453",
   "metadata": {},
   "source": [
    "# EXERCISE: TRY DIFFERENT CLASSIFIERS"
   ]
  },
  {
   "cell_type": "code",
   "execution_count": 25,
   "id": "b1169b5c",
   "metadata": {},
   "outputs": [],
   "source": [
    "# Try a different classifier and check the results.\n",
    "# You can find difeferent types here: https://scikit-learn.org/stable/supervised_learning.html\n",
    "# In particular try to visualise the confusion matrix."
   ]
  },
  {
   "attachments": {},
   "cell_type": "markdown",
   "id": "6985e1d3-1d8d-4c19-9e7d-8effa78ec80f",
   "metadata": {},
   "source": [
    "After splitting the datasets we now have two: a train and a test portion. We can easily check their shapes."
   ]
  },
  {
   "cell_type": "code",
   "execution_count": 26,
   "id": "002e9175-43a7-445a-bbb1-9e26cadc9e62",
   "metadata": {},
   "outputs": [
    {
     "name": "stdout",
     "output_type": "stream",
     "text": [
      "Train set shape:  (898, 64)\n",
      "Test set shape:  (899, 64)\n"
     ]
    }
   ],
   "source": [
    "print(\"Train set shape: \", X_train.shape)\n",
    "print(\"Test set shape: \", X_test.shape)"
   ]
  },
  {
   "attachments": {},
   "cell_type": "markdown",
   "id": "9920c79f-70d5-4391-b84a-1d06d62a24eb",
   "metadata": {},
   "source": [
    "# Evaluate the model on the test dataset"
   ]
  },
  {
   "cell_type": "code",
   "execution_count": 27,
   "id": "824cd29f-667d-40b1-a481-22e2fca82c8e",
   "metadata": {},
   "outputs": [],
   "source": [
    "# Predict the value of the digit on the test subset\n",
    "predicted = clf.predict(X_test)"
   ]
  },
  {
   "attachments": {},
   "cell_type": "markdown",
   "id": "b77cba83-0606-4385-8862-cf76e7558c51",
   "metadata": {},
   "source": [
    "# Show the prediction visually"
   ]
  },
  {
   "cell_type": "code",
   "execution_count": 28,
   "id": "a4b9980e-b5b6-4cb7-af73-dfb39d22c6e5",
   "metadata": {},
   "outputs": [
    {
     "data": {
      "image/png": "[encoded data removed]",
      "text/plain": [
       "<Figure size 1000x300 with 4 Axes>"
      ]
     },
     "metadata": {},
     "output_type": "display_data"
    }
   ],
   "source": [
    "_, axes = plt.subplots(nrows=1, ncols=4, figsize=(10, 3))\n",
    "for ax, image, prediction in zip(axes, X_test, predicted):\n",
    "    ax.set_axis_off()\n",
    "    image = image.reshape(8, 8)\n",
    "    ax.imshow(image, cmap=plt.cm.gray_r, interpolation=\"nearest\")\n",
    "    ax.set_title(f\"Prediction: {prediction}\")"
   ]
  },
  {
   "attachments": {},
   "cell_type": "markdown",
   "id": "a97dd74f",
   "metadata": {},
   "source": [
    "# EXERCISE: CHECK 3 WRONG PREDICTIONS"
   ]
  },
  {
   "cell_type": "code",
   "execution_count": 32,
   "id": "159de2fb",
   "metadata": {},
   "outputs": [
    {
     "data": {
      "image/png": "[encoded data removed]",
      "text/plain": [
       "<Figure size 1000x300 with 4 Axes>"
      ]
     },
     "metadata": {},
     "output_type": "display_data"
    }
   ],
   "source": [
    "# ADD YOUR CODE HERE\n",
    "_, axes = plt.subplots(nrows=1, ncols=4, figsize=(10, 3))\n",
    "\n",
    "wrong_images = []\n",
    "wrong_predictions = []\n",
    "for image, true, prediction in zip(X_test, y_test, predicted):\n",
    "    if (true != prediction):\n",
    "        wrong_images.append(image)\n",
    "        wrong_predictions.append(prediction)\n",
    "\n",
    "for ax, image, prediction in zip(axes, wrong_images, wrong_predictions):\n",
    "    ax.set_axis_off()\n",
    "    image = image.reshape(8, 8)\n",
    "    ax.imshow(image, cmap=plt.cm.gray_r, interpolation=\"nearest\")\n",
    "    ax.set_title(f\"Prediction: {prediction}\")"
   ]
  },
  {
   "attachments": {},
   "cell_type": "markdown",
   "id": "e50fc31a-ab6e-4031-a8a8-33a0d5a1c8fe",
   "metadata": {},
   "source": [
    "## Other useful features of ```scikit-learn```"
   ]
  },
  {
   "cell_type": "code",
   "execution_count": 12,
   "id": "ee026ff3-96e1-4d6a-911d-ac8b4e80e732",
   "metadata": {},
   "outputs": [
    {
     "name": "stdout",
     "output_type": "stream",
     "text": [
      "Classification report for classifier SVC(gamma=0.001):\n",
      "              precision    recall  f1-score   support\n",
      "\n",
      "           0       1.00      0.99      0.99        88\n",
      "           1       0.99      0.97      0.98        91\n",
      "           2       0.99      0.99      0.99        86\n",
      "           3       0.98      0.87      0.92        91\n",
      "           4       0.99      0.96      0.97        92\n",
      "           5       0.95      0.97      0.96        91\n",
      "           6       0.99      0.99      0.99        91\n",
      "           7       0.96      0.99      0.97        89\n",
      "           8       0.94      1.00      0.97        88\n",
      "           9       0.93      0.98      0.95        92\n",
      "\n",
      "    accuracy                           0.97       899\n",
      "   macro avg       0.97      0.97      0.97       899\n",
      "weighted avg       0.97      0.97      0.97       899\n",
      "\n",
      "\n"
     ]
    }
   ],
   "source": [
    "print(\n",
    "    f\"Classification report for classifier {clf}:\\n\"\n",
    "    f\"{metrics.classification_report(y_test, predicted)}\\n\"\n",
    ")"
   ]
  },
  {
   "cell_type": "code",
   "execution_count": 15,
   "id": "a9713b56-57ac-4284-b27f-30a547a7ac61",
   "metadata": {},
   "outputs": [
    {
     "data": {
      "text/plain": [
       "0.9688542825361512"
      ]
     },
     "execution_count": 15,
     "metadata": {},
     "output_type": "execute_result"
    }
   ],
   "source": [
    "metrics.accuracy_score(y_test, predicted)"
   ]
  },
  {
   "cell_type": "code",
   "execution_count": 8,
   "id": "7b4298a6-1919-4973-b322-f278e6d90176",
   "metadata": {},
   "outputs": [
    {
     "name": "stdout",
     "output_type": "stream",
     "text": [
      "Confusion matrix:\n",
      "[[87  0  0  0  1  0  0  0  0  0]\n",
      " [ 0 88  1  0  0  0  0  0  1  1]\n",
      " [ 0  0 85  1  0  0  0  0  0  0]\n",
      " [ 0  0  0 79  0  3  0  4  5  0]\n",
      " [ 0  0  0  0 88  0  0  0  0  4]\n",
      " [ 0  0  0  0  0 88  1  0  0  2]\n",
      " [ 0  1  0  0  0  0 90  0  0  0]\n",
      " [ 0  0  0  0  0  1  0 88  0  0]\n",
      " [ 0  0  0  0  0  0  0  0 88  0]\n",
      " [ 0  0  0  1  0  1  0  0  0 90]]\n"
     ]
    },
    {
     "data": {
      "image/png": "[encoded data removed]",
      "text/plain": [
       "<Figure size 432x288 with 2 Axes>"
      ]
     },
     "metadata": {
      "needs_background": "light"
     },
     "output_type": "display_data"
    }
   ],
   "source": [
    "disp = metrics.ConfusionMatrixDisplay.from_predictions(y_test, predicted)\n",
    "disp.figure_.suptitle(\"Confusion Matrix\")\n",
    "print(f\"Confusion matrix:\\n{disp.confusion_matrix}\")\n",
    "\n",
    "plt.show()"
   ]
  },
  {
   "attachments": {},
   "cell_type": "markdown",
   "id": "59f2ba9c-32ca-4ee1-9270-fd1c12fa0826",
   "metadata": {},
   "source": [
    "# Hold-out approach with multiple splits"
   ]
  },
  {
   "cell_type": "code",
   "execution_count": 43,
   "id": "ba77c2c7-d01b-4e8a-a25b-a68afde01a21",
   "metadata": {},
   "outputs": [],
   "source": [
    "accuracy_list = []\n",
    "\n",
    "# Create a classifier: a support vector classifier\n",
    "\n",
    "\n",
    "# Split data into 50% train and 50% test subsets\n",
    "# This is an example of the hold-out approach for\n",
    "# model validation.\n",
    "for i in range(500):\n",
    "    \n",
    "    clf = svm.SVC(gamma=0.001)\n",
    "    \n",
    "    X_train, X_test, y_train, y_test = train_test_split(\n",
    "        data, digits.target, test_size=0.2, shuffle=True, random_state=i\n",
    "    )\n",
    "    \n",
    "\n",
    "    # Learn the digits on the train subset\n",
    "    clf.fit(X_train, y_train)\n",
    "    \n",
    "    predicted = clf.predict(X_test)\n",
    "    \n",
    "    accuracy_list.append(metrics.accuracy_score(y_test, predicted))\n",
    "\n"
   ]
  },
  {
   "cell_type": "code",
   "execution_count": 44,
   "id": "d5cc1e4b-ba66-4b87-82e0-3b3c29412162",
   "metadata": {},
   "outputs": [
    {
     "data": {
      "image/png": "[encoded data removed]",
      "text/plain": [
       "<Figure size 864x576 with 1 Axes>"
      ]
     },
     "metadata": {
      "needs_background": "light"
     },
     "output_type": "display_data"
    }
   ],
   "source": [
    "fig = plt.figure(figsize = (12,8))\n",
    "\n",
    "plt.hist(accuracy_list, bins = 20)\n",
    "plt.xticks(fontsize = 18)\n",
    "plt.yticks(fontsize = 18)\n",
    "plt.show()"
   ]
  },
  {
   "attachments": {},
   "cell_type": "markdown",
   "id": "492dc9c2-66a2-451e-b0e9-63a4492e57c3",
   "metadata": {},
   "source": [
    "# EXERCISE: TRY COMPLETELY FROM SCRATCH"
   ]
  },
  {
   "cell_type": "code",
   "execution_count": 19,
   "id": "0ae1bbd8",
   "metadata": {},
   "outputs": [
    {
     "name": "stdout",
     "output_type": "stream",
     "text": [
      "2.9.0\n"
     ]
    }
   ],
   "source": [
    "# TensorFlow and tf.keras\n",
    "import tensorflow as tf\n",
    "\n",
    "# Helper libraries\n",
    "import numpy as np\n",
    "import matplotlib.pyplot as plt\n",
    "\n",
    "print(tf.__version__)"
   ]
  },
  {
   "cell_type": "code",
   "execution_count": 20,
   "id": "d0325ebb",
   "metadata": {},
   "outputs": [],
   "source": [
    "fashion_mnist = tf.keras.datasets.fashion_mnist\n",
    "\n",
    "(train_images, train_labels), (test_images, test_labels) = fashion_mnist.load_data()"
   ]
  },
  {
   "cell_type": "code",
   "execution_count": 21,
   "id": "4a0cbe28",
   "metadata": {},
   "outputs": [],
   "source": [
    "class_names = ['T-shirt/top', 'Trouser', 'Pullover', 'Dress', 'Coat',\n",
    "               'Sandal', 'Shirt', 'Sneaker', 'Bag', 'Ankle boot']"
   ]
  },
  {
   "cell_type": "code",
   "execution_count": 22,
   "id": "1bbd97cf",
   "metadata": {},
   "outputs": [
    {
     "data": {
      "text/plain": [
       "(60000, 28, 28)"
      ]
     },
     "execution_count": 22,
     "metadata": {},
     "output_type": "execute_result"
    }
   ],
   "source": [
    "train_images.shape"
   ]
  },
  {
   "cell_type": "code",
   "execution_count": 24,
   "id": "f9cbd5e7",
   "metadata": {},
   "outputs": [
    {
     "data": {
      "image/png": "[encoded data removed]",
      "text/plain": [
       "<Figure size 640x480 with 2 Axes>"
      ]
     },
     "metadata": {},
     "output_type": "display_data"
    }
   ],
   "source": [
    "plt.figure()\n",
    "plt.imshow(train_images[0], cmap = 'gray')\n",
    "plt.colorbar()\n",
    "plt.grid(False)\n",
    "plt.show()"
   ]
  },
  {
   "cell_type": "code",
   "execution_count": 25,
   "id": "8b8a55eb",
   "metadata": {},
   "outputs": [],
   "source": [
    "train_images = train_images / 255.0\n",
    "\n",
    "test_images = test_images / 255.0"
   ]
  },
  {
   "cell_type": "code",
   "execution_count": 26,
   "id": "229e0b5a",
   "metadata": {},
   "outputs": [
    {
     "data": {
      "image/png": "[encoded data removed]",
      "text/plain": [
       "<Figure size 1000x1000 with 25 Axes>"
      ]
     },
     "metadata": {},
     "output_type": "display_data"
    }
   ],
   "source": [
    "plt.figure(figsize=(10,10))\n",
    "for i in range(25):\n",
    "    plt.subplot(5,5,i+1)\n",
    "    plt.xticks([])\n",
    "    plt.yticks([])\n",
    "    plt.grid(False)\n",
    "    plt.imshow(train_images[i], cmap=plt.cm.binary)\n",
    "    plt.xlabel(class_names[train_labels[i]])\n",
    "plt.show()"
   ]
  },
  {
   "cell_type": "code",
   "execution_count": 27,
   "id": "2b04a905",
   "metadata": {},
   "outputs": [],
   "source": [
    "# Build a network to classify the images"
   ]
  },
  {
   "cell_type": "code",
   "execution_count": 28,
   "id": "e910efaf",
   "metadata": {},
   "outputs": [],
   "source": [
    "# compile the model"
   ]
  },
  {
   "cell_type": "code",
   "execution_count": 29,
   "id": "87e2d58c",
   "metadata": {},
   "outputs": [],
   "source": [
    "# Fit the model"
   ]
  },
  {
   "cell_type": "code",
   "execution_count": null,
   "id": "897250de",
   "metadata": {},
   "outputs": [],
   "source": [
    "test_loss, test_acc = model.evaluate(test_images,  test_labels, verbose=2)\n",
    "print('\\nTest accuracy:', test_acc)"
   ]
  },
  {
   "cell_type": "code",
   "execution_count": 30,
   "id": "c8542aad",
   "metadata": {},
   "outputs": [],
   "source": [
    "# ADD YOUR CODE HERE\n",
    "# SHOW 4-5 WRONG PREDICTIONS (WRONG CLASS)"
   ]
  },
  {
   "cell_type": "code",
   "execution_count": 31,
   "id": "c1944c6c",
   "metadata": {},
   "outputs": [],
   "source": [
    "# SHOW THE CONFUSION MATRIX FOR THE CLASSIFICATION ON THE TEST DATASET"
   ]
  },
  {
   "cell_type": "code",
   "execution_count": null,
   "id": "0887cc5a",
   "metadata": {},
   "outputs": [],
   "source": [
    "# EVALUATE THE DISTRIBUTION OF A METRIC OF YOUR CHOICE WHEN DOING MULTIPLE SPLITS"
   ]
  },
  {
   "cell_type": "code",
   "execution_count": null,
   "id": "8a7adc80",
   "metadata": {},
   "outputs": [],
   "source": []
  }
 ],
 "metadata": {
  "kernelspec": {
   "display_name": "Python 3 (ipykernel)",
   "language": "python",
   "name": "python3"
  },
  "language_info": {
   "codemirror_mode": {
    "name": "ipython",
    "version": 3
   },
   "file_extension": ".py",
   "mimetype": "text/x-python",
   "name": "python",
   "nbconvert_exporter": "python",
   "pygments_lexer": "ipython3",
   "version": "3.9.15"
  }
 },
 "nbformat": 4,
 "nbformat_minor": 5
}
